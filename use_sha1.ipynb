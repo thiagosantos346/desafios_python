{
  "nbformat": 4,
  "nbformat_minor": 0,
  "metadata": {
    "colab": {
      "name": "use_sha1.ipynb",
      "provenance": [],
      "collapsed_sections": []
    },
    "kernelspec": {
      "name": "python3",
      "display_name": "Python 3"
    }
  },
  "cells": [
    {
      "cell_type": "code",
      "metadata": {
        "id": "1asyEVYMOq6c",
        "colab_type": "code",
        "colab": {}
      },
      "source": [
        "from http import HTTPStatus\n",
        "from http.client import HTTPException\n",
        "import requests\n",
        "import http\n",
        "import hashlib\n",
        "import json"
      ],
      "execution_count": 0,
      "outputs": []
    },
    {
      "cell_type": "code",
      "metadata": {
        "id": "TpIoaJ3bTsTl",
        "colab_type": "code",
        "colab": {}
      },
      "source": [
        "def get_http_connection(host):\n",
        "  try:\n",
        "    connection = http.client.HTTPSConnection(host)\n",
        "    return connection\n",
        "  except HTTPException as e:\n",
        "    raise(e)"
      ],
      "execution_count": 0,
      "outputs": []
    },
    {
      "cell_type": "code",
      "metadata": {
        "id": "db16aDUPV_6W",
        "colab_type": "code",
        "colab": {}
      },
      "source": [
        "def fetch(connection, url, body=None, headers={}, encode_chunked=False ):\n",
        "  try:\n",
        "    \n",
        "    connection.request('GET', url=url, body=body, headers=headers, encode_chunked=encode_chunked)\n",
        "    response = connection.getresponse()\n",
        "\n",
        "    if response.status == 200 :\n",
        "      return response\n",
        "  except HTTPException as e:\n",
        "    print(e)\n",
        "    return -1\n",
        "  print(response.status)\n",
        "  return -1"
      ],
      "execution_count": 0,
      "outputs": []
    },
    {
      "cell_type": "code",
      "metadata": {
        "id": "kWz_QRWIQNSF",
        "colab_type": "code",
        "colab": {}
      },
      "source": [
        "def fetchJSON(host, url):\n",
        "  connection = get_http_connection(host)\n",
        "  response = fetch(connection, url)\n",
        "\n",
        "  if response.status == 200 :\n",
        "    response_data = response.readlines()\n",
        "    response_data_json = json.loads(response_data[0])\n",
        "    return response_data_json\n",
        "\n",
        "  return -1"
      ],
      "execution_count": 0,
      "outputs": []
    },
    {
      "cell_type": "code",
      "metadata": {
        "id": "wcQ5AQMSFRov",
        "colab_type": "code",
        "colab": {}
      },
      "source": [
        "def stdioFile(path, name, values, operation):\n",
        "  full_path = str(path+name)\n",
        "\n",
        "  with open(full_path, operation) as fileObject:\n",
        "    if operation == 'r' :\n",
        "      result = fileObject.read(values)\n",
        "    if operation in ('w', 'a')  :\n",
        "      result = fileObject.write(values)\n",
        "\n",
        "    if not fileObject.closed :\n",
        "      fileObject.close()\n",
        "  \n",
        "  return result"
      ],
      "execution_count": 0,
      "outputs": []
    },
    {
      "cell_type": "code",
      "metadata": {
        "id": "LlLz_YkhYDHE",
        "colab_type": "code",
        "colab": {}
      },
      "source": [
        "def decrypt( word, shift, dic ):\n",
        "  \n",
        "  new_word = str('')\n",
        "\n",
        "  for letter in word:\n",
        "    position = dic.find(letter)\n",
        "    if position == -1:\n",
        "       new_word += letter\n",
        "    else :\n",
        "      new_position = position + shift\n",
        "      if new_position > len(dic) :\n",
        "        new_position = len(dic) - (new_position % len(dic))\n",
        "      new_word  += dic[new_position]\n",
        "\n",
        "  return new_word"
      ],
      "execution_count": 0,
      "outputs": []
    },
    {
      "cell_type": "code",
      "metadata": {
        "id": "9aWuyxyaFgvV",
        "colab_type": "code",
        "colab": {}
      },
      "source": [
        "def upload(path, filename, full_url):\n",
        "\n",
        "  try:\n",
        "    response = requests.post(url = full_url, files = {'answer': open(path+filename, 'rb') })\n",
        "    print(response.status_code)\n",
        "    print(response.json)\n",
        "    print(response.text)\n",
        "    print(response.headers)\n",
        "  except Exception as e:\n",
        "    print(e)"
      ],
      "execution_count": 0,
      "outputs": []
    },
    {
      "cell_type": "code",
      "metadata": {
        "id": "m_EBAe3pcVol",
        "colab_type": "code",
        "colab": {}
      },
      "source": [
        "def main():\n",
        "\n",
        "  #variables\n",
        "  LOCAL_CONSTS = {\n",
        "    \"data_output\" : \"/content/drive/My Drive/tk/\",\n",
        "    \"api_key\" : \"tk.txt\",\n",
        "    'host' : 'api.codenation.dev',\n",
        "    'url_get' : '/v1/challenge/dev-ps/generate-data?token={SEU_TOKEN}',\n",
        "    'url_post' : '/v1/challenge/dev-ps/submit-solution?token={SEU_TOKEN}',\n",
        "    'dic' : 'abcdefghijklmnopqrstuvwxyz',\n",
        "    'file_name' : 'answer.json'\n",
        "  }\n",
        "  token = stdioFile(LOCAL_CONSTS['data_output'], LOCAL_CONSTS['api_key']  , None , 'r')\n",
        "  url_get = LOCAL_CONSTS['url_get'].format(SEU_TOKEN=token)\n",
        "  full_url_post = 'https://'+LOCAL_CONSTS['host']+LOCAL_CONSTS['url_post'].format(SEU_TOKEN=token)\n",
        "\n",
        "  #in\n",
        "  response_data_json = fetchJSON(LOCAL_CONSTS['host'], url_get)\n",
        "\n",
        "  #transform\n",
        "  decrypited = decrypt(response_data_json['cifrado'], -12, LOCAL_CONSTS['dic'])\n",
        "  decrypited_utf8 = str(decrypited).encode('utf-8')\n",
        "  resume = hashlib.sha1(decrypited_utf8).hexdigest()\n",
        "\n",
        "  #out\n",
        "  response_data_json['decifrado'] = decrypited\n",
        "  response_data_json['resumo_criptografico'] = resume\n",
        "  str_response_data_json = str(response_data_json)\n",
        "  str_response_data_json = str_response_data_json.replace(\"\\'\", '\\\"')\n",
        "  stdioFile(LOCAL_CONSTS['data_output'], LOCAL_CONSTS['file_name']  , str_response_data_json, 'w')\n",
        "  stdioFile(LOCAL_CONSTS['data_output'], LOCAL_CONSTS['file_name']  , None , 'r')\n",
        "\n",
        " #upload \n",
        "  file_path =LOCAL_CONSTS['data_output']+LOCAL_CONSTS['file_name']\n",
        "  upload(LOCAL_CONSTS['data_output'],  LOCAL_CONSTS['file_name'] ,full_url_post)\n",
        "\n",
        "\n",
        "if __name__==\"__main__\":\n",
        "  main()\n"
      ],
      "execution_count": 0,
      "outputs": []
    }
  ]
}